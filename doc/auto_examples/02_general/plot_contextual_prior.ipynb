{
  "nbformat_minor": 0, 
  "nbformat": 4, 
  "cells": [
    {
      "execution_count": null, 
      "cell_type": "code", 
      "source": [
        "%matplotlib inline"
      ], 
      "outputs": [], 
      "metadata": {
        "collapsed": false
      }
    }, 
    {
      "source": [
        "\n\n\n#  Using contextual priors for decoding\n\n\nUse contextual priors by feeding topic weights from one decoding into another.\n\n\n"
      ], 
      "cell_type": "markdown", 
      "metadata": {}
    }, 
    {
      "source": [
        "Start with the necessary imports\n--------------------------------\n\n"
      ], 
      "cell_type": "markdown", 
      "metadata": {}
    }, 
    {
      "execution_count": null, 
      "cell_type": "code", 
      "source": [
        "from os.path import join\nimport matplotlib.pyplot as plt\n\nimport numpy as np\nimport nibabel as nib\nfrom nilearn import plotting\n\nfrom gclda.model import Model\nfrom gclda.decode import encode, decode_continuous\nfrom gclda.utils import get_resource_path"
      ], 
      "outputs": [], 
      "metadata": {
        "collapsed": false
      }
    }, 
    {
      "source": [
        "Load model and initialize decoder\n----------------------------------\n\n"
      ], 
      "cell_type": "markdown", 
      "metadata": {}
    }, 
    {
      "execution_count": null, 
      "cell_type": "code", 
      "source": [
        "model_file = join(get_resource_path(), 'models/Neurosynth2015Filtered2',\n                  'model_200topics_2015Filtered2_10000iters.pklz')\nmodel = Model.load(model_file)"
      ], 
      "outputs": [], 
      "metadata": {
        "collapsed": false
      }
    }, 
    {
      "source": [
        "Extract topic weights for text as prior\n----------------------------------------\n\n"
      ], 
      "cell_type": "markdown", 
      "metadata": {}
    }, 
    {
      "execution_count": null, 
      "cell_type": "code", 
      "source": [
        "text = 'faces and faces and faces face the other faces against facial discrimination'\n_, prior = encode(model, text)"
      ], 
      "outputs": [], 
      "metadata": {
        "collapsed": false
      }
    }, 
    {
      "source": [
        "Read in image to decode\n--------------------------------------\n\n"
      ], 
      "cell_type": "markdown", 
      "metadata": {}
    }, 
    {
      "execution_count": null, 
      "cell_type": "code", 
      "source": [
        "file_to_decode = '../data/faces_specificity_z.nii.gz'\nimg_to_decode = nib.load(file_to_decode)\nfig = plotting.plot_stat_map(img_to_decode, display_mode='z',\n                             threshold=3.290527,\n                             cut_coords=[-28, -4, 20, 50])"
      ], 
      "outputs": [], 
      "metadata": {
        "collapsed": false
      }
    }, 
    {
      "source": [
        "Decode image without prior\n--------------------------\n\n"
      ], 
      "cell_type": "markdown", 
      "metadata": {}
    }, 
    {
      "execution_count": null, 
      "cell_type": "code", 
      "source": [
        "_, posterior1 = decode_continuous(model, img_to_decode)\n\n# max-normalize and sort for visualization\nposterior1 = posterior1 / np.min(posterior1)\nsorter = posterior1.argsort()\nposterior1 = posterior1[sorter]"
      ], 
      "outputs": [], 
      "metadata": {
        "collapsed": false
      }
    }, 
    {
      "source": [
        "Decode image with weak prior\n-----------------------------\n\n"
      ], 
      "cell_type": "markdown", 
      "metadata": {}
    }, 
    {
      "execution_count": null, 
      "cell_type": "code", 
      "source": [
        "_, posterior2 = decode_continuous(model, img_to_decode, topic_priors=prior, prior_weight=0.01)\n\n# max-normalize and sort for visualization\nposterior2 = posterior2 / np.min(posterior2)\nposterior2 = posterior2[sorter]"
      ], 
      "outputs": [], 
      "metadata": {
        "collapsed": false
      }
    }, 
    {
      "source": [
        "Decode image with strong prior\n------------------------------\n\n"
      ], 
      "cell_type": "markdown", 
      "metadata": {}
    }, 
    {
      "execution_count": null, 
      "cell_type": "code", 
      "source": [
        "_, posterior3 = decode_continuous(model, img_to_decode, topic_priors=prior, prior_weight=0.05)\n\n# max-normalize and sort for visualization\nposterior3 = posterior3 / np.min(posterior3)\nposterior3 = posterior3[sorter]"
      ], 
      "outputs": [], 
      "metadata": {
        "collapsed": false
      }
    }, 
    {
      "source": [
        "Plot topic weights\n------------------\n\n"
      ], 
      "cell_type": "markdown", 
      "metadata": {}
    }, 
    {
      "execution_count": null, 
      "cell_type": "code", 
      "source": [
        "fig2, ax2 = plt.subplots()\nax2.plot(posterior1, color='r', label='No prior')\nax2.plot(posterior2, color='b', label='Weak prior', alpha=0.5)\nax2.plot(posterior3, color='g', label='Strong prior', alpha=0.5)\n\nlegend = ax2.legend(frameon=True, loc='upper left')\nframe = legend.get_frame()\nframe.set_facecolor('white')\nframe.set_edgecolor('black')\n\nax2.set_xlabel('Topic #')\nax2.set_ylabel('Weight')\nfig2.show()"
      ], 
      "outputs": [], 
      "metadata": {
        "collapsed": false
      }
    }
  ], 
  "metadata": {
    "kernelspec": {
      "display_name": "Python 2", 
      "name": "python2", 
      "language": "python"
    }, 
    "language_info": {
      "mimetype": "text/x-python", 
      "nbconvert_exporter": "python", 
      "name": "python", 
      "file_extension": ".py", 
      "version": "2.7.12", 
      "pygments_lexer": "ipython2", 
      "codemirror_mode": {
        "version": 2, 
        "name": "ipython"
      }
    }
  }
}