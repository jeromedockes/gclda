{
  "nbformat_minor": 0, 
  "nbformat": 4, 
  "cells": [
    {
      "execution_count": null, 
      "cell_type": "code", 
      "source": [
        "%matplotlib inline"
      ], 
      "outputs": [], 
      "metadata": {
        "collapsed": false
      }
    }, 
    {
      "source": [
        "\n\n\n#  Encoding\n\n\nEncode text from Rubin et al. (2017) into images.\n\n\n"
      ], 
      "cell_type": "markdown", 
      "metadata": {}
    }, 
    {
      "source": [
        "Start with the necessary imports\n--------------------------------\n\n"
      ], 
      "cell_type": "markdown", 
      "metadata": {}
    }, 
    {
      "execution_count": null, 
      "cell_type": "code", 
      "source": [
        "from os.path import join\n\nfrom nilearn import plotting\n\nfrom gclda.model import Model\nfrom gclda.decode import encode\nfrom gclda.utils import get_resource_path"
      ], 
      "outputs": [], 
      "metadata": {
        "collapsed": false
      }
    }, 
    {
      "source": [
        "Load model\n----------------------------------\n\n"
      ], 
      "cell_type": "markdown", 
      "metadata": {}
    }, 
    {
      "execution_count": null, 
      "cell_type": "code", 
      "source": [
        "model_file = join(get_resource_path(), 'models/model_Neurosynth2015Filtered2_temp.pklz')\nmodel = Model.load(model_file)\nmodel.display_model_summary()"
      ], 
      "outputs": [], 
      "metadata": {
        "collapsed": false
      }
    }, 
    {
      "source": [
        "First text\n----------------------\n\n"
      ], 
      "cell_type": "markdown", 
      "metadata": {}
    }, 
    {
      "execution_count": null, 
      "cell_type": "code", 
      "source": [
        "text = 'motor'\ntext_img, _ = encode(model, text)\nfig = plotting.plot_stat_map(text_img, display_mode='z',\n                             threshold=0.00001,\n                             cut_coords=[-18, 4, 32, 60])"
      ], 
      "outputs": [], 
      "metadata": {
        "collapsed": false
      }
    }, 
    {
      "source": [
        "Second text\n---------------------\n\n"
      ], 
      "cell_type": "markdown", 
      "metadata": {}
    }, 
    {
      "execution_count": null, 
      "cell_type": "code", 
      "source": [
        "text = 'effort difficult demands'\ntext_img, _ = encode(model, text)\nfig = plotting.plot_stat_map(text_img, display_mode='z',\n                             threshold=0.00001,\n                             cut_coords=[-30, -4, 26, 50])"
      ], 
      "outputs": [], 
      "metadata": {
        "collapsed": false
      }
    }, 
    {
      "source": [
        "Third text\n------------------\n\n"
      ], 
      "cell_type": "markdown", 
      "metadata": {}
    }, 
    {
      "execution_count": null, 
      "cell_type": "code", 
      "source": [
        "text = 'painful stimulation during a language task'\ntext_img, _ = encode(model, text)\nfig = plotting.plot_stat_map(text_img, display_mode='z',\n                             threshold=0.00001,\n                             cut_coords=[-2, 22, 44, 66])"
      ], 
      "outputs": [], 
      "metadata": {
        "collapsed": false
      }
    }
  ], 
  "metadata": {
    "kernelspec": {
      "display_name": "Python 2", 
      "name": "python2", 
      "language": "python"
    }, 
    "language_info": {
      "mimetype": "text/x-python", 
      "nbconvert_exporter": "python", 
      "name": "python", 
      "file_extension": ".py", 
      "version": "2.7.12", 
      "pygments_lexer": "ipython2", 
      "codemirror_mode": {
        "version": 2, 
        "name": "ipython"
      }
    }
  }
}