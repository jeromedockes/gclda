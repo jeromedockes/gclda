{
  "nbformat_minor": 0, 
  "nbformat": 4, 
  "cells": [
    {
      "execution_count": null, 
      "cell_type": "code", 
      "source": [
        "%matplotlib inline"
      ], 
      "outputs": [], 
      "metadata": {
        "collapsed": false
      }
    }, 
    {
      "source": [
        "\n\n\n#  Discrete decoding\n\n\nDecode ROIs from Rubin et al. (2017).\n\n\n"
      ], 
      "cell_type": "markdown", 
      "metadata": {}
    }, 
    {
      "source": [
        "Start with the necessary imports\n--------------------------------\n\n"
      ], 
      "cell_type": "markdown", 
      "metadata": {}
    }, 
    {
      "execution_count": null, 
      "cell_type": "code", 
      "source": [
        "from os.path import join\n\nimport nibabel as nib\nfrom nilearn import plotting\nfrom nltools.mask import create_sphere\n\nfrom gclda.model import Model\nfrom gclda.decode import decode_roi\nfrom gclda.utils import get_resource_path"
      ], 
      "outputs": [], 
      "metadata": {
        "collapsed": false
      }
    }, 
    {
      "source": [
        "Load model and initialize decoder\n----------------------------------\n\n"
      ], 
      "cell_type": "markdown", 
      "metadata": {}
    }, 
    {
      "execution_count": null, 
      "cell_type": "code", 
      "source": [
        "model_file = join(get_resource_path(), 'models/model_Neurosynth2015Filtered2_temp.pklz')\nmodel = Model.load(model_file)\nmodel.display_model_summary()\n\n# Create mask image\nmask_data = (model.dataset.mask_img.get_data()!=0).astype(int)\naffine = model.dataset.mask_img.affine\nmask = nib.Nifti1Image(mask_data, affine)"
      ], 
      "outputs": [], 
      "metadata": {
        "collapsed": false
      }
    }, 
    {
      "source": [
        "Temporoparietal seed\n--------------------------------------\n\n"
      ], 
      "cell_type": "markdown", 
      "metadata": {}
    }, 
    {
      "execution_count": null, 
      "cell_type": "code", 
      "source": [
        "coords = [[-52, -56, 18]]\nradii = [6] * len(coords)\n\nroi_img = create_sphere(coords, radius=radii, mask=mask)\nfig = plotting.plot_roi(roi_img, display_mode='ortho',\n                        cut_coords=[-52, -56, 18],\n                        draw_cross=False)\n\ndf, _ = decode_roi(model, roi_img)\ndf = df.sort_values(by='Weight', ascending=False)\nprint(df.head(10))"
      ], 
      "outputs": [], 
      "metadata": {
        "collapsed": false
      }
    }, 
    {
      "source": [
        "Temporoparietal, medial parietal, and dorsomedial prefrontal seeds\n------------------------------------------------------------------\n\n"
      ], 
      "cell_type": "markdown", 
      "metadata": {}
    }, 
    {
      "execution_count": null, 
      "cell_type": "code", 
      "source": [
        "coords = [[-56, -52, 18],\n          [0, -58, 38],\n          [4, 54, 26]]\nradii = [6] * len(coords)\n\nroi_img = create_sphere(coords, radius=radii, mask=mask)\nfig = plotting.plot_roi(roi_img, display_mode='ortho',\n                        cut_coords=[-52, -56, 18],\n                        draw_cross=False)\n\ndf, _ = decode_roi(model, roi_img)\ndf = df.sort_values(by='Weight', ascending=False)\nprint(df.head(10))"
      ], 
      "outputs": [], 
      "metadata": {
        "collapsed": false
      }
    }, 
    {
      "source": [
        "Temporoparietal, left superior temporal sulcus, and left inferior frontal gyrus seeds\n-------------------------------------------------------------------------------------\n\n"
      ], 
      "cell_type": "markdown", 
      "metadata": {}
    }, 
    {
      "execution_count": null, 
      "cell_type": "code", 
      "source": [
        "coords = [[-56, -52, 18],\n          [-54, -40, 0],\n          [-50, 26, 6]]\nradii = [6] * len(coords)\n\nroi_img = create_sphere(coords, radius=radii, mask=mask)\nfig = plotting.plot_roi(roi_img, display_mode='ortho',\n                        cut_coords=[-52, -56, 18],\n                        draw_cross=False)\n\ndf, _ = decode_roi(model, roi_img)\ndf = df.sort_values(by='Weight', ascending=False)\nprint(df.head(10))"
      ], 
      "outputs": [], 
      "metadata": {
        "collapsed": false
      }
    }
  ], 
  "metadata": {
    "kernelspec": {
      "display_name": "Python 2", 
      "name": "python2", 
      "language": "python"
    }, 
    "language_info": {
      "mimetype": "text/x-python", 
      "nbconvert_exporter": "python", 
      "name": "python", 
      "file_extension": ".py", 
      "version": "2.7.12", 
      "pygments_lexer": "ipython2", 
      "codemirror_mode": {
        "version": 2, 
        "name": "ipython"
      }
    }
  }
}