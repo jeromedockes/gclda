{
  "nbformat_minor": 0, 
  "nbformat": 4, 
  "cells": [
    {
      "execution_count": null, 
      "cell_type": "code", 
      "source": [
        "%matplotlib inline"
      ], 
      "outputs": [], 
      "metadata": {
        "collapsed": false
      }
    }, 
    {
      "source": [
        "\n\n\n#  Show topic distributions\n\n\nPlot topic figures and show them.\n\n\n"
      ], 
      "cell_type": "markdown", 
      "metadata": {}
    }, 
    {
      "source": [
        "Start with the necessary imports\n--------------------------------\n\n"
      ], 
      "cell_type": "markdown", 
      "metadata": {}
    }, 
    {
      "execution_count": null, 
      "cell_type": "code", 
      "source": [
        "from os.path import join\n\nimport numpy as np\nimport pandas as pd\nfrom nilearn import plotting\nfrom nilearn.masking import unmask\n\nfrom gclda.model import Model\nfrom gclda.utils import get_resource_path"
      ], 
      "outputs": [], 
      "metadata": {
        "collapsed": false
      }
    }, 
    {
      "source": [
        "Load model\n----------------------------------\n\n"
      ], 
      "cell_type": "markdown", 
      "metadata": {}
    }, 
    {
      "execution_count": null, 
      "cell_type": "code", 
      "source": [
        "model_file = join(get_resource_path(), 'models/Neurosynth2015Filtered2',\n                  'model_200topics_2015Filtered2_10000iters.pklz')\nmodel = Model.load(model_file)"
      ], 
      "outputs": [], 
      "metadata": {
        "collapsed": false
      }
    }, 
    {
      "source": [
        "Get spatial probability\n-----------------------\n\n"
      ], 
      "cell_type": "markdown", 
      "metadata": {}
    }, 
    {
      "execution_count": null, 
      "cell_type": "code", 
      "source": [
        "p_voxel_g_topic, _ = model.get_spatial_probs()"
      ], 
      "outputs": [], 
      "metadata": {
        "collapsed": false
      }
    }, 
    {
      "source": [
        "Show topic 10\n-----------------------\n\n"
      ], 
      "cell_type": "markdown", 
      "metadata": {}
    }, 
    {
      "execution_count": null, 
      "cell_type": "code", 
      "source": [
        "topic_no = 10\nimg = unmask(p_voxel_g_topic[:, topic_no], model.dataset.mask_img)\n\n# Get strings giving top K words and probs for the current topic\nwprobs = model.n_word_tokens_word_by_topic[:, topic_no] + model.beta\nwprobs = wprobs / np.sum(wprobs)\nword_probs = zip(*[model.dataset.word_labels, wprobs])\ndf = pd.DataFrame(columns=['term', 'probability'], data=word_probs)\ndf = df.sort_values(by='probability', ascending=False).reset_index(drop=True)\nprint df.head(12)\n\nfig = plotting.plot_stat_map(img, display_mode='z')"
      ], 
      "outputs": [], 
      "metadata": {
        "collapsed": false
      }
    }, 
    {
      "source": [
        "Show topic 59\n------------------------\n\n"
      ], 
      "cell_type": "markdown", 
      "metadata": {}
    }, 
    {
      "execution_count": null, 
      "cell_type": "code", 
      "source": [
        "topic_no = 58\nimg = unmask(p_voxel_g_topic[:, topic_no], model.dataset.mask_img)\n\n# Get strings giving top K words and probs for the current topic\nwprobs = model.n_word_tokens_word_by_topic[:, topic_no] + model.beta\nwprobs = wprobs / np.sum(wprobs)\nword_probs = zip(*[model.dataset.word_labels, wprobs])\ndf = pd.DataFrame(columns=['term', 'probability'], data=word_probs)\ndf = df.sort_values(by='probability', ascending=False).reset_index(drop=True)\nprint df.head(12)\n\nfig = plotting.plot_stat_map(img, display_mode='z')"
      ], 
      "outputs": [], 
      "metadata": {
        "collapsed": false
      }
    }, 
    {
      "source": [
        "Show topic 150\n-----------------------\n\n"
      ], 
      "cell_type": "markdown", 
      "metadata": {}
    }, 
    {
      "execution_count": null, 
      "cell_type": "code", 
      "source": [
        "topic_no = 149\nimg = unmask(p_voxel_g_topic[:, topic_no], model.dataset.mask_img)\n\n# Get strings giving top K words and probs for the current topic\nwprobs = model.n_word_tokens_word_by_topic[:, topic_no] + model.beta\nwprobs = wprobs / np.sum(wprobs)\nword_probs = zip(*[model.dataset.word_labels, wprobs])\ndf = pd.DataFrame(columns=['term', 'probability'], data=word_probs)\ndf = df.sort_values(by='probability', ascending=False).reset_index(drop=True)\nprint df.head(12)\n\nfig = plotting.plot_stat_map(img, display_mode='z')"
      ], 
      "outputs": [], 
      "metadata": {
        "collapsed": false
      }
    }
  ], 
  "metadata": {
    "kernelspec": {
      "display_name": "Python 2", 
      "name": "python2", 
      "language": "python"
    }, 
    "language_info": {
      "mimetype": "text/x-python", 
      "nbconvert_exporter": "python", 
      "name": "python", 
      "file_extension": ".py", 
      "version": "2.7.12", 
      "pygments_lexer": "ipython2", 
      "codemirror_mode": {
        "version": 2, 
        "name": "ipython"
      }
    }
  }
}